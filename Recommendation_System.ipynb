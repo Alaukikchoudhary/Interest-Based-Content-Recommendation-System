{
 "cells": [
  {
   "cell_type": "markdown",
   "id": "195ea602",
   "metadata": {},
   "source": [
    "# 📌 Interest-Based Content Recommendation System\n",
    "---\n",
    "Assignment Notebook"
   ]
  },
  {
   "cell_type": "code",
   "execution_count": 1,
   "id": "f4309502",
   "metadata": {},
   "outputs": [],
   "source": [
    "\n",
    "import pandas as pd\n",
    "import numpy as np\n",
    "from sklearn.feature_extraction.text import TfidfVectorizer\n",
    "from sklearn.metrics.pairwise import cosine_similarity\n"
   ]
  },
  {
   "cell_type": "markdown",
   "id": "8b0e98b4",
   "metadata": {},
   "source": [
    "## 1. Load and Explore Data"
   ]
  },
  {
   "cell_type": "code",
   "execution_count": 2,
   "id": "bc26bb5c",
   "metadata": {},
   "outputs": [
    {
     "name": "stdout",
     "output_type": "stream",
     "text": [
      "Users:  (50, 5)\n",
      "  user_id  age gender          top_3_interests  past_engagement_score\n",
      "0      U1   24      F      sports, art, gaming                   0.61\n",
      "1      U2   32      F    travel, food, fashion                   0.93\n",
      "2      U3   28  Other  sports, travel, fashion                   0.40\n",
      "3      U4   25      M     fashion, music, tech                   0.53\n",
      "4      U5   24      M   fashion, food, fitness                   0.80 \n",
      "\n",
      "Posts:  (100, 4)\n",
      "  post_id creator_id content_type            tags\n",
      "0      P1        U44        video    sports, food\n",
      "1      P2        U26        video   music, travel\n",
      "2      P3        U32         text  sports, travel\n",
      "3      P4         U6        image   music, gaming\n",
      "4      P5        U32        image   food, fashion \n",
      "\n",
      "Engagements:  (1000, 3)\n",
      "  user_id post_id  engagement\n",
      "0      U1     P52           1\n",
      "1      U1     P44           0\n",
      "2      U1      P1           1\n",
      "3      U1      P4           1\n",
      "4      U1     P65           0\n"
     ]
    }
   ],
   "source": [
    "\n",
    "# Load CSV files\n",
    "users_df = pd.read_csv(\"Users.csv\")\n",
    "posts_df = pd.read_csv(\"Posts.csv\")\n",
    "eng_df = pd.read_csv(\"Engagements.csv\")\n",
    "\n",
    "# Preview datasets\n",
    "print(\"Users: \", users_df.shape)\n",
    "print(users_df.head(), \"\\n\")\n",
    "print(\"Posts: \", posts_df.shape)\n",
    "print(posts_df.head(), \"\\n\")\n",
    "print(\"Engagements: \", eng_df.shape)\n",
    "print(eng_df.head())\n"
   ]
  },
  {
   "cell_type": "markdown",
   "id": "07011bff",
   "metadata": {},
   "source": [
    "## 2. Preprocessing"
   ]
  },
  {
   "cell_type": "code",
   "execution_count": 3,
   "id": "2e3c0e2e",
   "metadata": {},
   "outputs": [],
   "source": [
    "\n",
    "# Fill missing values (if any)\n",
    "users_df['top_3_interests'] = users_df['top_3_interests'].fillna('')\n",
    "posts_df['tags'] = posts_df['tags'].fillna('')\n"
   ]
  },
  {
   "cell_type": "markdown",
   "id": "ad281e4b",
   "metadata": {},
   "source": [
    "## 3. Represent Users and Posts with TF-IDF"
   ]
  },
  {
   "cell_type": "code",
   "execution_count": 4,
   "id": "9bfe02ca",
   "metadata": {},
   "outputs": [],
   "source": [
    "\n",
    "# Vectorize user interests\n",
    "user_vectorizer = TfidfVectorizer()\n",
    "user_tfidf = user_vectorizer.fit_transform(users_df['top_3_interests'])\n",
    "\n",
    "# Vectorize post tags\n",
    "post_vectorizer = TfidfVectorizer()\n",
    "post_tfidf = post_vectorizer.fit_transform(posts_df['tags'])\n"
   ]
  },
  {
   "cell_type": "markdown",
   "id": "e861f736",
   "metadata": {},
   "source": [
    "## 4. Compute User-Post Similarity"
   ]
  },
  {
   "cell_type": "code",
   "execution_count": 5,
   "id": "c07cf3a7",
   "metadata": {},
   "outputs": [
    {
     "data": {
      "text/plain": [
       "(50, 100)"
      ]
     },
     "execution_count": 5,
     "metadata": {},
     "output_type": "execute_result"
    }
   ],
   "source": [
    "\n",
    "# Compute cosine similarity\n",
    "similarity_matrix = cosine_similarity(user_tfidf, post_tfidf)\n",
    "similarity_matrix.shape\n"
   ]
  },
  {
   "cell_type": "markdown",
   "id": "1728489b",
   "metadata": {},
   "source": [
    "## 5. Incorporate Past Engagement Score"
   ]
  },
  {
   "cell_type": "code",
   "execution_count": 6,
   "id": "fcca6293",
   "metadata": {},
   "outputs": [
    {
     "data": {
      "text/plain": [
       "(50, 100)"
      ]
     },
     "execution_count": 6,
     "metadata": {},
     "output_type": "execute_result"
    }
   ],
   "source": [
    "\n",
    "# Adjust similarity by past engagement\n",
    "engagement_scores = users_df['past_engagement_score'].values.reshape(-1,1)\n",
    "final_scores = similarity_matrix * (1 + engagement_scores)\n",
    "final_scores.shape\n"
   ]
  },
  {
   "cell_type": "markdown",
   "id": "f246bda6",
   "metadata": {},
   "source": [
    "## 6. Generate Top-3 Recommendations"
   ]
  },
  {
   "cell_type": "code",
   "execution_count": 7,
   "id": "b02a5777",
   "metadata": {},
   "outputs": [
    {
     "name": "stdout",
     "output_type": "stream",
     "text": [
      "U1 -> ['P22', 'P78', 'P10']\n",
      "U2 -> ['P42', 'P80', 'P5']\n",
      "U3 -> ['P3', 'P34', 'P39']\n",
      "U4 -> ['P37', 'P53', 'P96']\n",
      "U5 -> ['P74', 'P7', 'P26']\n"
     ]
    }
   ],
   "source": [
    "\n",
    "recommendations = {}\n",
    "\n",
    "for i, user in enumerate(users_df['user_id']):\n",
    "    scores = list(enumerate(final_scores[i]))\n",
    "    ranked = sorted(scores, key=lambda x: x[1], reverse=True)\n",
    "    top3_posts = [posts_df.iloc[idx]['post_id'] for idx, _ in ranked[:3]]\n",
    "    recommendations[user] = top3_posts\n",
    "\n",
    "# Show example recommendations\n",
    "for user, recs in list(recommendations.items())[:5]:\n",
    "    print(user, \"->\", recs)\n"
   ]
  },
  {
   "cell_type": "markdown",
   "id": "65661cc8",
   "metadata": {},
   "source": [
    "## 7. Evaluate with Precision@3"
   ]
  },
  {
   "cell_type": "code",
   "execution_count": 8,
   "id": "7e488c58",
   "metadata": {},
   "outputs": [
    {
     "name": "stdout",
     "output_type": "stream",
     "text": [
      "Average Precision@3: 0.06666666666666667\n"
     ]
    }
   ],
   "source": [
    "\n",
    "def precision_at_k(user_id, k=3):\n",
    "    actual_engaged = set(eng_df[(eng_df['user_id']==user_id) & (eng_df['engagement']==1)]['post_id'])\n",
    "    recommended = set(recommendations[user_id][:k])\n",
    "    if len(recommended) == 0:\n",
    "        return 0\n",
    "    return len(actual_engaged & recommended) / k\n",
    "\n",
    "precisions = [precision_at_k(u, 3) for u in users_df['user_id']]\n",
    "print(\"Average Precision@3:\", np.mean(precisions))\n"
   ]
  }
 ],
 "metadata": {
  "kernelspec": {
   "display_name": "base",
   "language": "python",
   "name": "python3"
  },
  "language_info": {
   "codemirror_mode": {
    "name": "ipython",
    "version": 3
   },
   "file_extension": ".py",
   "mimetype": "text/x-python",
   "name": "python",
   "nbconvert_exporter": "python",
   "pygments_lexer": "ipython3",
   "version": "3.12.7"
  }
 },
 "nbformat": 4,
 "nbformat_minor": 5
}
